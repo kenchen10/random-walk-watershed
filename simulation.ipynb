{
 "cells": [
  {
   "cell_type": "code",
   "execution_count": 175,
   "metadata": {
    "collapsed": true
   },
   "outputs": [],
   "source": [
    "import numpy as np\n",
    "import matplotlib.pyplot as plt\n",
    "import collections\n",
    "\n",
    "%matplotlib inline"
   ]
  },
  {
   "cell_type": "code",
   "execution_count": 191,
   "metadata": {},
   "outputs": [],
   "source": [
    "def randomWalk(start):\n",
    "    \"\"\"\n",
    "    input: Initial random number between 0 and start.\n",
    "    output: 1 if the random walk tends toward float(\"inf\") else 0 if it tends toward 0.0.\n",
    "    \"\"\"\n",
    "    for _ in np.arange(100):\n",
    "        next_val = np.random.uniform(0, start) * start # Choose a value between 1 and start and multiply it by start\n",
    "        start = next_val\n",
    "        if start == float(\"inf\"):\n",
    "            return 1\n",
    "        elif start == 0.0:\n",
    "            return 0\n",
    "    return 2"
   ]
  },
  {
   "cell_type": "code",
   "execution_count": 192,
   "metadata": {},
   "outputs": [],
   "source": [
    "def experiment(n, r):\n",
    "    val_dict = {} # Dictionary that maps start value to value returned by randomWalk(start)\n",
    "    for start in np.arange(1.0, r, 0.1):\n",
    "        start = round(start, 2)\n",
    "        val_dict[start] = []\n",
    "        for _ in np.arange(n):\n",
    "            val_dict[start] += [randomWalk(start)]\n",
    "    return val_dict"
   ]
  },
  {
   "cell_type": "code",
   "execution_count": 193,
   "metadata": {},
   "outputs": [],
   "source": [
    "def countDictOccurences(r, val_dict):\n",
    "    \"\"\"\n",
    "    inuput: - An integer representing a range of values between 0 and r inclusive\n",
    "            - val_dict which is the dictionary that maps start value to value returned by randomWalk(start)\n",
    "    output: A dictionary mapping the return value of randomWalk to the number of occurences of that value\n",
    "    \"\"\"\n",
    "    for i in val_dict:\n",
    "        unique, counts = np.unique(val_dict[i], return_counts=True)\n",
    "        temp_counts = [0, 0, 0]\n",
    "        d = dict(zip(unique, counts))\n",
    "        for k in d:\n",
    "            temp_counts[k] = d[k]\n",
    "        unique = [0, 1, 2]\n",
    "        counts = temp_counts\n",
    "        val_dict[i] = dict(zip(unique, counts))\n",
    "    return val_dict"
   ]
  },
  {
   "cell_type": "code",
   "execution_count": 196,
   "metadata": {},
   "outputs": [],
   "source": [
    "def formatDictOccurences(val_dict):\n",
    "    k_arr = []\n",
    "    ret_arr = []\n",
    "    temp = collections.OrderedDict(sorted(val_dict.items()))\n",
    "    val_dict = temp\n",
    "    for k in val_dict:\n",
    "        inner = []\n",
    "        for v in val_dict[k]:\n",
    "            inner += [val_dict[k][v]]\n",
    "        ret_arr += [inner]\n",
    "        k_arr += [k]\n",
    "    return ret_arr, k_arr"
   ]
  },
  {
   "cell_type": "code",
   "execution_count": 195,
   "metadata": {},
   "outputs": [
    {
     "name": "stderr",
     "output_type": "stream",
     "text": [
      "C:\\Users\\Kenny Chen\\Anaconda3\\lib\\site-packages\\ipykernel_launcher.py:7: RuntimeWarning: overflow encountered in double_scalars\n",
      "  import sys\n"
     ]
    },
    {
     "data": {
      "image/png": "[encoded data removed]",
      "text/plain": [
       "<matplotlib.figure.Figure at 0x1e07a189710>"
      ]
     },
     "metadata": {},
     "output_type": "display_data"
    }
   ],
   "source": [
    "start = 5\n",
    "num_trials = 10000\n",
    "vals = formatDictOccurences(countDictOccurences(start, experiment(num_trials, start)))\n",
    "data = np.array(vals[0])\n",
    "\n",
    "length = len(data)\n",
    "x_labels = vals[1]\n",
    "\n",
    "# Set plot parameters\n",
    "fig, ax = plt.subplots(figsize=(18,5))\n",
    "width = 0.2 # width of bar\n",
    "x = np.arange(length)\n",
    "\n",
    "ax.bar(x + width, data[:,0], width, color='#E57373', label='Tends Toward 0')\n",
    "ax.bar(x + 2*width, data[:,1], width, color='#00838F', label='Tends Toward Infinity')\n",
    "\n",
    "plt.xticks(x, x, rotation='vertical')\n",
    "ax.set_ylabel('Count')\n",
    "a_max = np.amax(data)\n",
    "ax.set_ylim(0, a_max + a_max / 10)\n",
    "ax.set_xticks(x + width + width/2)\n",
    "ax.set_xticklabels(x_labels)\n",
    "ax.set_xlabel('Starting Value')\n",
    "ax.set_title('The Effect of Starting Value on End Value')\n",
    "ax.legend()\n",
    "plt.grid(True, 'major', 'y', ls='--', lw=.5, c='k', alpha=.3)\n",
    "\n",
    "fig.tight_layout()\n",
    "plt.show()"
   ]
  },
  {
   "cell_type": "code",
   "execution_count": null,
   "metadata": {
    "collapsed": true
   },
   "outputs": [],
   "source": []
  }
 ],
 "metadata": {
  "kernelspec": {
   "display_name": "Python 3",
   "language": "python",
   "name": "python3"
  },
  "language_info": {
   "codemirror_mode": {
    "name": "ipython",
    "version": 3
   },
   "file_extension": ".py",
   "mimetype": "text/x-python",
   "name": "python",
   "nbconvert_exporter": "python",
   "pygments_lexer": "ipython3",
   "version": "3.6.1"
  }
 },
 "nbformat": 4,
 "nbformat_minor": 2
}
